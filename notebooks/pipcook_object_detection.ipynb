{
  "nbformat": 4,
  "nbformat_minor": 0,
  "metadata": {
    "colab": {
      "name": "pipcook_object_detection.ipynb",
      "provenance": [],
      "collapsed_sections": []
    },
    "kernelspec": {
      "name": "python3",
      "display_name": "Python 3"
    },
    "accelerator": "GPU"
  },
  "cells": [
    {
      "cell_type": "markdown",
      "metadata": {
        "id": "Ct2dCXvqrGHj",
        "colab_type": "text"
      },
      "source": [
        "## Environment Initialization\n",
        "This cell is used to initlialize necessary environments for pipcook to run, including Node.js 12.x."
      ]
    },
    {
      "cell_type": "code",
      "metadata": {
        "id": "6v8pGPuXrI3H",
        "colab_type": "code",
        "colab": {}
      },
      "source": [
        "!wget -P /tmp https://nodejs.org/dist/v12.18.1/node-v12.18.1-linux-x64.tar.xz\n",
        "!rm -rf /usr/local/lib/nodejs\n",
        "!mkdir -p /usr/local/lib/nodejs\n",
        "!tar -xJf /tmp/node-v12.18.1-linux-x64.tar.xz -C /usr/local/lib/nodejs\n",
        "!sh -c 'echo \"export PATH=/usr/local/lib/nodejs/node-v12.18.1-linux-x64/bin:\\$PATH\" >> /etc/profile'\n",
        "!rm -f /usr/bin/node\n",
        "!rm -f /usr/bin/npm\n",
        "!ln -s /usr/local/lib/nodejs/node-v12.18.1-linux-x64/bin/node /usr/bin/node\n",
        "!ln -s /usr/local/lib/nodejs/node-v12.18.1-linux-x64/bin/npm /usr/bin/npm\n",
        "!npm config delete registry\n",
        "\n",
        "import os\n",
        "PATH_ENV = os.environ['PATH']\n",
        "%env PATH=/usr/local/lib/nodejs/node-v12.18.1-linux-x64/bin:${PATH_ENV}"
      ],
      "execution_count": null,
      "outputs": []
    },
    {
      "cell_type": "markdown",
      "metadata": {
        "id": "c6kRSyP0rMTh",
        "colab_type": "text"
      },
      "source": [
        "## install pipcook cli tool\n",
        "pipcook-cli is the cli tool for pipcook for any operations later, including installing pipcook, run pipcook jobs and checking logs."
      ]
    },
    {
      "cell_type": "code",
      "metadata": {
        "id": "gb_4-lTYrQGf",
        "colab_type": "code",
        "colab": {}
      },
      "source": [
        "!npm install @pipcook/pipcook-cli -g\n",
        "!rm -f /usr/bin/pipcook\n",
        "!ln -s /usr/local/lib/nodejs/node-v12.18.1-linux-x64/bin/pipcook /usr/bin/pipcook"
      ],
      "execution_count": null,
      "outputs": []
    },
    {
      "cell_type": "markdown",
      "metadata": {
        "id": "d6c3uYd1rUVW",
        "colab_type": "text"
      },
      "source": [
        "## Install Pipcook and start the daemon\n",
        "We will install pipcook in this cell and start the daemon. Pipcook daemon is the server to handle any pipcook jobs."
      ]
    },
    {
      "cell_type": "code",
      "metadata": {
        "id": "T7wz5S54rb4T",
        "colab_type": "code",
        "colab": {}
      },
      "source": [
        "!sudo pipcook init\n",
        "!sudo pipcook daemon start"
      ],
      "execution_count": null,
      "outputs": []
    },
    {
      "cell_type": "markdown",
      "metadata": {
        "id": "TID1Z5wHsMRZ",
        "colab_type": "text"
      },
      "source": [
        "# Detect the UI components from a design draft\n",
        "\n",
        "## Background\n",
        "\n",
        "Have you ever encountered such a scenario in the front-end business: there are some pictures in your hand, and you want an automatic way to identify which components are included in this picture, where these components are located in the picture, and which type components are of. This kind of task are generally called object detection in the field of deep learning.\n",
        "\n",
        "> Object detection refers to finding targets from a scene (picture), including two processes: where and what.\n",
        "\n",
        "This kind of detection is very useful. For example, in the research of code generation from image, the front-end code is mainly composed of div, img and span. We can identify the shape, bitmap, and text position in the image, and then directly generate the corresponding codes.\n",
        "\n",
        "This tutorial will teach you how to train a model to do such a detection task.\n",
        "\n",
        "## Scenario\n",
        "\n",
        "For example, as shown in the following, this picture contains multiple components, including buttons, switches, input boxes, etc., we want to identify their location and type：\n",
        "\n",
        "![image.png](https://gw.alicdn.com/tfs/TB1YxdPfz39YK4jSZPcXXXrUFXa-1300-140.png)\n",
        "\n",
        "For the trained model, after inputting this picture, the model will output the following prediction results:\n",
        "```js\n",
        "{\n",
        "  boxes: [\n",
        "    [83, 31, 146, 71],  // xmin, ymin, xmax, ymax\n",
        "    [210, 48, 256, 78],\n",
        "    [403, 30, 653, 72],\n",
        "    [717, 41, 966, 83]\n",
        "  ],\n",
        "  classes: [\n",
        "    0, 1, 2, 2  // class index\n",
        "  ],\n",
        "  scores: [\n",
        "    0.95, 0.93, 0.96, 0.99 // scores\n",
        "  ]\n",
        "}\n",
        "```\n",
        "\n",
        "At the same time, we will generate a `labelmap` during training. Labelmap is a mapping relationship between the serial number and the actual type. This generation is mainly due to the fact that our classification name is text, but before entering the model, we need to convert the text into numbers. Here is a labelmap:\n",
        "\n",
        "```json\n",
        "{\n",
        "  \"button\": 0,\n",
        "  \"switch\": 1,\n",
        "  \"input\": 2\n",
        "}\n",
        "```\n",
        "\n",
        "Let’s explain the above prediction results:\n",
        "\n",
        "- boxes：This field describes the position of each component identified, displayed in the order of the upper left and lower right corners, such as [83, 31, 146, 71], indicating that the coordinates of the upper left corner of this component are (83, 13), lower right corner are (146, 71)\n",
        "- classes: This field describes the category of each component. Combined with labelmap, we can see that the identified components are buttons, switches, input boxes and input boxes.\n",
        "- scores: The confidence of each identified component. The confidence is how much information the model has for the results it has identified. Generally, we will set a threshold. We only take the results with confidence greater than this threshold.\n",
        "\n",
        "## Data Preparation\n",
        "\n",
        "When we want to do such a task of object detection, we need to make, collect and store our dataset according to certain specifications. There are two main types of datasets for object detection in the industry today, which are [Coco Dataset] (https ://cocodataset.org/) and [Pascal Voc](http://host.robots.ox.ac.uk/pascal/VOC/) datasets. We also provide corresponding data collection plugins to collect these two data formats. We take Pascal Voc format as an example, the file directory is:\n",
        "\n",
        "- train\n",
        "   - 1.jpg\n",
        "   - 1.xml\n",
        "   - 2.jpg\n",
        "   - 2.xml\n",
        "   - ...\n",
        "- validation\n",
        "   - 1.jpg\n",
        "   - 1.xml\n",
        "   - 2.jpg\n",
        "   - 2.xml\n",
        "   - ...\n",
        "- test\n",
        "   - 1.jpg\n",
        "   - 1.xml\n",
        "   - 2.jpg\n",
        "   - 2.xml\n",
        "   - ...\n",
        "\n",
        "We need to divide our dataset into a training set (train), a validation set (validation) and a test set (test) according to a certain proportion. Among them, the training set is mainly used to train the model, and the validation set and the test set are used to evaluate the model. The validation set is mainly used to evaluate the model during the training process to facilitate viewing of the model's overfitting and convergence. The test set is used to perform an overall evaluation of the model after all training is completed.\n",
        "\n",
        "For each picture, Pascal Voc specifies an XML annotation file to record which components and the location of each component in this picture. A typical XML file content is:\n",
        "\n",
        "```xml\n",
        "<?xml version=\"1.0\" encoding=\"UTF-8\"?>\n",
        "<annotation>\n",
        "   <folder>less_selected</folder>\n",
        "   <filename>0a3b6b38-fb11-451c-8a0d-b5503bc351e6.jpg</filename>\n",
        "   <size>\n",
        "      <width>987</width>\n",
        "      <height>103</height>\n",
        "   </size>\n",
        "   <segmented>0</segmented>\n",
        "   <object>\n",
        "      <name>buttons</name>\n",
        "      <pose>Unspecified</pose>\n",
        "      <truncated>0</truncated>\n",
        "      <difficult>0</difficult>\n",
        "      <bndbox>\n",
        "         <xmin>83</xmin>\n",
        "         <ymin>31.90625</ymin>\n",
        "         <xmax>146</xmax>\n",
        "         <ymax>71.40625</ymax>\n",
        "      </bndbox>\n",
        "   </object>\n",
        "   <object>\n",
        "      <name>switch</name>\n",
        "      <pose>Unspecified</pose>\n",
        "      <truncated>0</truncated>\n",
        "      <difficult>0</difficult>\n",
        "      <bndbox>\n",
        "         <xmin>210.453125</xmin>\n",
        "         <ymin>48.65625</ymin>\n",
        "         <xmax>256.453125</xmax>\n",
        "         <ymax>78.65625</ymax>\n",
        "      </bndbox>\n",
        "   </object>\n",
        "   <object>\n",
        "      <name>input</name>\n",
        "      <pose>Unspecified</pose>\n",
        "      <truncated>0</truncated>\n",
        "      <difficult>0</difficult>\n",
        "      <bndbox>\n",
        "         <xmin>403.515625</xmin>\n",
        "         <ymin>30.90625</ymin>\n",
        "         <xmax>653.015625</xmax>\n",
        "         <ymax>72.40625</ymax>\n",
        "      </bndbox>\n",
        "   </object>\n",
        "   <object>\n",
        "      <name>input</name>\n",
        "      <pose>Unspecified</pose>\n",
        "      <truncated>0</truncated>\n",
        "      <difficult>0</difficult>\n",
        "      <bndbox>\n",
        "         <xmin>717.46875</xmin>\n",
        "         <ymin>41.828125</ymin>\n",
        "         <xmax>966.96875</xmax>\n",
        "         <ymax>83.328125</ymax>\n",
        "      </bndbox>\n",
        "   </object>\n",
        "</annotation>\n",
        "```\n",
        "\n",
        "This XML annotation file is mainly composed of the following parts：\n",
        "\n",
        "- folder / filename: These two fields mainly define the image position and type corresponding to the annotation\n",
        "- size: width and height of image\n",
        "- object:\n",
        "   - name: component category\n",
        "   - bndbox: position of component\n",
        "\n",
        "We have prepared such a dataset, you can download it and check it out: [Download](http://ai-sample.oss-cn-hangzhou.aliyuncs.com/pipcook/datasets/component-recognition-detection/component-recognition-detection.zip).\n",
        "\n",
        "## Start Training\n",
        "\n",
        "After the dataset is ready, we can start training. Using Pipcook can be very convenient for object detection training. You only need to build the pipeline like this:\n",
        "\n",
        "```json\n",
        "{\n",
        "  \"plugins\": {\n",
        "    \"dataCollect\": {\n",
        "      \"package\": \"@pipcook/plugins-object-detection-pascalvoc-data-collect\",\n",
        "      \"params\": {\n",
        "        \"url\": \"http://ai-sample.oss-cn-hangzhou.aliyuncs.com/pipcook/datasets/component-recognition-detection/component-recognition-detection.zip\"\n",
        "      }\n",
        "    },\n",
        "    \"dataAccess\": {\n",
        "      \"package\": \"@pipcook/plugins-coco-data-access\"\n",
        "    },\n",
        "    \"modelDefine\": {\n",
        "      \"package\": \"@pipcook/plugins-detectron-fasterrcnn-model-define\"\n",
        "    },\n",
        "    \"modelTrain\": {\n",
        "      \"package\": \"@pipcook/plugins-detectron-model-train\",\n",
        "      \"params\": {\n",
        "        \"steps\": 100000\n",
        "      }\n",
        "    },\n",
        "    \"modelEvaluate\": {\n",
        "      \"package\": \"@pipcook/plugins-detectron-model-evaluate\"\n",
        "    }\n",
        "  }\n",
        "}\n",
        "\n",
        "```\n",
        "Through the above plugins, we can see that they are used separately:\n",
        "1. **@pipcook/plugins-object-detection-pascalvoc-data-collect** This plugin is used to download the dataset in Pascal Voc format. Generally, we need to provide the url parameter. We provide the address of the dataset we prepared above.\n",
        "1. **@pipcook/plugins-coco-data-access** Now that we have downloaded the dataset, we need to connect the dataset into the format required by the subsequent model. Since the detectron2 framework used by our model requires the coco format, we use this plugin.\n",
        "1. **@pipcook/plugins-detectron-fasterrcnn-model-define** We built a faster rcnn model based on the detectron2 framework. This model has a very good performance in the accuracy of object detection\n",
        "1. **@pipcook/plugins-detectron-model-train** This plugin is used to start the training of all kinds of models built on detectron2. We set iteration to 100000. If your dataset is very complex, you need to increase the number of iterations.\n",
        "1. **@pipcook/plugins-detectron-model-evaluate** We use this plug-in to evaluate the training effect of the model. This plugin will be effective only if the test testset is provided, and finally the average precision of each category is given.\n",
        "\n",
        "Since the object detection model, especially the model of the rcnn family is very large, it needs to be trained on a machine prepared with nvidia GPU and cuda 10.1 environment:"
      ]
    },
    {
      "cell_type": "code",
      "metadata": {
        "id": "WHUlvEqlsO9f",
        "colab_type": "code",
        "colab": {}
      },
      "source": [
        "!sudo pipcook run https://raw.githubusercontent.com/alibaba/pipcook/master/example/pipelines/object-detection.json"
      ],
      "execution_count": null,
      "outputs": []
    },
    {
      "cell_type": "markdown",
      "metadata": {
        "id": "7Nab5MlnD6VS",
        "colab_type": "text"
      },
      "source": [
        "After the training is completed, output will be generated in the current directory, which is a brand-new npm package, then we first install dependencies:"
      ]
    },
    {
      "cell_type": "code",
      "metadata": {
        "id": "TLGDpuTS-Z-G",
        "colab_type": "code",
        "colab": {}
      },
      "source": [
        "!cd output && sudo npm install --unsafe-perm\n",
        "!wget http://ai-sample.oss-cn-hangzhou.aliyuncs.com/pipcook/dsw/predict.js"
      ],
      "execution_count": null,
      "outputs": []
    },
    {
      "cell_type": "markdown",
      "metadata": {
        "id": "saSmOAeZD-4M",
        "colab_type": "text"
      },
      "source": [
        "Now we can predict. You can just have a try on code below to predict the image we provide. You can replace the image url with your own url to try on your own dataset. The predict result is in form of probablity of each category as we have explained before."
      ]
    },
    {
      "cell_type": "code",
      "metadata": {
        "id": "sGS3n6UND-S8",
        "colab_type": "code",
        "colab": {}
      },
      "source": [
        "!node predict.js https://img.alicdn.com/tfs/TB1ekuMhQY2gK0jSZFgXXc5OFXa-400-400.jpg"
      ],
      "execution_count": null,
      "outputs": []
    },
    {
      "cell_type": "markdown",
      "metadata": {
        "id": "RaitqeZKEE1F",
        "colab_type": "text"
      },
      "source": [
        "Note that the results given contain three parts:\n",
        "\n",
        "- boxes: This property is an array, and each element is another array with four elements, namely xmin, xmax, ymin, ymax\n",
        "- scores：This attribute is an array, and each element is the confidence of the corresponding prediction result\n",
        "- classes：This attribute is an array, and each element is the corresponding predicted category\n",
        "\n",
        "## Make your own dataset\n",
        "\n",
        "After reading the above description, are you already ready to use object detection to solve your own problems? If you want to make your own dataset, there are mainly the following steps.\n",
        "\n",
        "### Collect images\n",
        "\n",
        "This step is easier to understand. To have your own training data, you need to find a way to collect enough training pictures. In this step, you don’t need to label your own pictures. You only need to mark the original pictures.\n",
        "\n",
        "### Labelling\n",
        "\n",
        "There are many labeling tools now, you can use these labeling tools to mark which components are on your original picture, what the locations are and what types are of each component, Let's take [labelimg](https://github.com/tzutalin/labelImg) as example:\n",
        "\n",
        "![image.png](https://gw.alicdn.com/tfs/TB1nB4lN4z1gK0jSZSgXXavwpXa-799-401.png)\n",
        "\n",
        "You can install the software from the official labelimg website above, and then follow the steps below:\n",
        "\n",
        "- Build and launch using the instructions above.\n",
        "- Click 'Change default saved annotation folder' in Menu/File.\n",
        "- Click 'Open Dir'.\n",
        "- Click 'Create RectBox'.\n",
        "- Click and release left mouse to select a region to annotate the rect box.\n",
        "- You can use right mouse to drag the rect box to copy or move it.\n",
        "\n",
        "### Training\n",
        "\n",
        "After making the above dataset, organize the file structure according to the introduction in the previous chapter. After that, you can start the pipeline for training.\n",
        "\n",
        "## Conclusion\n",
        "\n",
        "Readers have learned how to identify multiple front-end components in a image, which can be applied to some more general scenarios. So in an article, we will introduce a more interesting example, how to use Pipcook to achieve the transfer of picture style, such as replacing the oranges in the picture with apples, or replacing the realistic photo style with oil painting style."
      ]
    }
  ]
}
